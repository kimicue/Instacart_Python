{
 "cells": [
  {
   "cell_type": "markdown",
   "id": "23bb59e2",
   "metadata": {},
   "source": [
    "# 01 Importing Libraries"
   ]
  },
  {
   "cell_type": "markdown",
   "id": "f37e3b51",
   "metadata": {},
   "source": [
    "#### 5. Import the pandas, NumPy, and os libraries."
   ]
  },
  {
   "cell_type": "code",
   "execution_count": 1,
   "id": "c559f561",
   "metadata": {},
   "outputs": [],
   "source": [
    "# Import libraries\n",
    "import pandas as pd\n",
    "import numpy as np\n",
    "import os"
   ]
  },
  {
   "cell_type": "markdown",
   "id": "5f09ea51",
   "metadata": {},
   "source": [
    "# 02 Data Type"
   ]
  },
  {
   "cell_type": "markdown",
   "id": "c0a05901",
   "metadata": {},
   "source": [
    "### 7. Code 3 different ways of reaching a result of 100 by adding or subtracting numeric variables."
   ]
  },
  {
   "cell_type": "markdown",
   "id": "cb9f7596",
   "metadata": {},
   "source": [
    "#### First way of making a result of 100."
   ]
  },
  {
   "cell_type": "code",
   "execution_count": 2,
   "id": "f20db9a2",
   "metadata": {},
   "outputs": [
    {
     "name": "stdout",
     "output_type": "stream",
     "text": [
      "100\n"
     ]
    }
   ],
   "source": [
    "# Assigning a numeric value of “100” to a variable called x. \n",
    "# Print it.\n",
    "\n",
    "x = 100\n",
    "print(x)"
   ]
  },
  {
   "cell_type": "markdown",
   "id": "0b6f6e96",
   "metadata": {},
   "source": [
    "#### Second way of making a result of 100."
   ]
  },
  {
   "cell_type": "code",
   "execution_count": 3,
   "id": "3229faaa",
   "metadata": {},
   "outputs": [
    {
     "data": {
      "text/plain": [
       "100"
      ]
     },
     "execution_count": 3,
     "metadata": {},
     "output_type": "execute_result"
    }
   ],
   "source": [
    "# Assigning a numeric value of “50” to a variable called x. \n",
    "# Adding the value of x to itself.\n",
    "\n",
    "x = 50\n",
    "x + x"
   ]
  },
  {
   "cell_type": "markdown",
   "id": "45697011",
   "metadata": {},
   "source": [
    "#### Third way of making a result of 100."
   ]
  },
  {
   "cell_type": "code",
   "execution_count": 4,
   "id": "18a1f35e",
   "metadata": {},
   "outputs": [
    {
     "data": {
      "text/plain": [
       "100"
      ]
     },
     "execution_count": 4,
     "metadata": {},
     "output_type": "execute_result"
    }
   ],
   "source": [
    "# Assigning a numeric value of “150” to a variable called x. \n",
    "# Subtracting 50 from the value of x.\n",
    "\n",
    "x = 150\n",
    "x - 50"
   ]
  },
  {
   "cell_type": "code",
   "execution_count": 5,
   "id": "12461f78",
   "metadata": {
    "scrolled": true
   },
   "outputs": [
    {
     "data": {
      "text/plain": [
       "int"
      ]
     },
     "execution_count": 5,
     "metadata": {},
     "output_type": "execute_result"
    }
   ],
   "source": [
    "# Printing the data type of x that comes from the result above.\n",
    "\n",
    "type(x)"
   ]
  },
  {
   "cell_type": "markdown",
   "id": "95efa8f8",
   "metadata": {},
   "source": [
    "### 8. Code 2 floating-point variables and divide them by each other."
   ]
  },
  {
   "cell_type": "code",
   "execution_count": 6,
   "id": "3ebbcdb9",
   "metadata": {},
   "outputs": [
    {
     "data": {
      "text/plain": [
       "1.5"
      ]
     },
     "execution_count": 6,
     "metadata": {},
     "output_type": "execute_result"
    }
   ],
   "source": [
    "# Assigning a numeric value of “3.14” to a variable called x.\n",
    "# Assigning a numeric value of “4.71” to a variable called y. \n",
    "# Calculate y divided by x.\n",
    "\n",
    "x = 3.14\n",
    "y = 4.71\n",
    "y / x"
   ]
  },
  {
   "cell_type": "code",
   "execution_count": 7,
   "id": "a08236a4",
   "metadata": {},
   "outputs": [
    {
     "data": {
      "text/plain": [
       "float"
      ]
     },
     "execution_count": 7,
     "metadata": {},
     "output_type": "execute_result"
    }
   ],
   "source": [
    "# Printing the data type of x that comes from the result above.\n",
    "\n",
    "type(x)"
   ]
  },
  {
   "cell_type": "code",
   "execution_count": 8,
   "id": "5fd9a8a0",
   "metadata": {},
   "outputs": [
    {
     "data": {
      "text/plain": [
       "float"
      ]
     },
     "execution_count": 8,
     "metadata": {},
     "output_type": "execute_result"
    }
   ],
   "source": [
    "# Printing the data type of y that comes from the result above.\n",
    "\n",
    "type(y)"
   ]
  },
  {
   "cell_type": "markdown",
   "id": "1ac5cb49",
   "metadata": {},
   "source": [
    "### 9. Construct a short word made of separate strings (you’ll need to concatenate some strings!)."
   ]
  },
  {
   "cell_type": "code",
   "execution_count": 9,
   "id": "694b804e",
   "metadata": {},
   "outputs": [
    {
     "data": {
      "text/plain": [
       "'Hello, CareerFoundry!'"
      ]
     },
     "execution_count": 9,
     "metadata": {},
     "output_type": "execute_result"
    }
   ],
   "source": [
    "# Assigning a string value of “Hello, ” to a variable called a.\n",
    "# Assigning a string value of “CareerFoundry!” to a variable called b. \n",
    "# Concatenating the variables called a and b.\n",
    "\n",
    "a = 'Hello, '\n",
    "b = 'CareerFoundry!'\n",
    "a + b"
   ]
  },
  {
   "cell_type": "code",
   "execution_count": 10,
   "id": "b93f95fa",
   "metadata": {},
   "outputs": [
    {
     "data": {
      "text/plain": [
       "str"
      ]
     },
     "execution_count": 10,
     "metadata": {},
     "output_type": "execute_result"
    }
   ],
   "source": [
    "# Printing the data type of \"a + b\" that comes from the result above.\n",
    "\n",
    "type(a + b)"
   ]
  },
  {
   "cell_type": "markdown",
   "id": "cddb697f",
   "metadata": {},
   "source": [
    "### 10. Construct 2 short sentences made of separate strings."
   ]
  },
  {
   "cell_type": "code",
   "execution_count": 11,
   "id": "8045d41d",
   "metadata": {},
   "outputs": [
    {
     "data": {
      "text/plain": [
       "'Thank you for your feedback and advice! Here Im subbmitting my task 4.2.'"
      ]
     },
     "execution_count": 11,
     "metadata": {},
     "output_type": "execute_result"
    }
   ],
   "source": [
    "# Assigning a string value of “Thank you for your feedback and advice! ” to a variable called a.\n",
    "# Assigning a string value of “Here I'm subbmitting my task 4.2.” to a variable called b. \n",
    "# Concatenating the variables called a and b.\n",
    "\n",
    "a = 'Thank you for your feedback and advice! '\n",
    "b = 'Here I''m subbmitting my task 4.2.'\n",
    "a + b"
   ]
  },
  {
   "cell_type": "code",
   "execution_count": 12,
   "id": "2e729a31",
   "metadata": {},
   "outputs": [
    {
     "data": {
      "text/plain": [
       "str"
      ]
     },
     "execution_count": 12,
     "metadata": {},
     "output_type": "execute_result"
    }
   ],
   "source": [
    "# Printing the data type of \"a + b\" that comes from the result above.\n",
    "\n",
    "type(a + b)"
   ]
  },
  {
   "cell_type": "markdown",
   "id": "b1cf0172",
   "metadata": {},
   "source": [
    "### BONUS: Make a string appear 100 times."
   ]
  },
  {
   "cell_type": "code",
   "execution_count": 13,
   "id": "45b68047",
   "metadata": {},
   "outputs": [
    {
     "data": {
      "text/plain": [
       "'CareerFoundry! CareerFoundry! CareerFoundry! CareerFoundry! CareerFoundry! CareerFoundry! CareerFoundry! CareerFoundry! CareerFoundry! CareerFoundry! CareerFoundry! CareerFoundry! CareerFoundry! CareerFoundry! CareerFoundry! CareerFoundry! CareerFoundry! CareerFoundry! CareerFoundry! CareerFoundry! CareerFoundry! CareerFoundry! CareerFoundry! CareerFoundry! CareerFoundry! CareerFoundry! CareerFoundry! CareerFoundry! CareerFoundry! CareerFoundry! CareerFoundry! CareerFoundry! CareerFoundry! CareerFoundry! CareerFoundry! CareerFoundry! CareerFoundry! CareerFoundry! CareerFoundry! CareerFoundry! CareerFoundry! CareerFoundry! CareerFoundry! CareerFoundry! CareerFoundry! CareerFoundry! CareerFoundry! CareerFoundry! CareerFoundry! CareerFoundry! CareerFoundry! CareerFoundry! CareerFoundry! CareerFoundry! CareerFoundry! CareerFoundry! CareerFoundry! CareerFoundry! CareerFoundry! CareerFoundry! CareerFoundry! CareerFoundry! CareerFoundry! CareerFoundry! CareerFoundry! CareerFoundry! CareerFoundry! CareerFoundry! CareerFoundry! CareerFoundry! CareerFoundry! CareerFoundry! CareerFoundry! CareerFoundry! CareerFoundry! CareerFoundry! CareerFoundry! CareerFoundry! CareerFoundry! CareerFoundry! CareerFoundry! CareerFoundry! CareerFoundry! CareerFoundry! CareerFoundry! CareerFoundry! CareerFoundry! CareerFoundry! CareerFoundry! CareerFoundry! CareerFoundry! CareerFoundry! CareerFoundry! CareerFoundry! CareerFoundry! CareerFoundry! CareerFoundry! CareerFoundry! CareerFoundry! CareerFoundry! '"
      ]
     },
     "execution_count": 13,
     "metadata": {},
     "output_type": "execute_result"
    }
   ],
   "source": [
    "# Assigning a string value of “CareerFoundry!” to a variable called a. \n",
    "# Calculating the variables called a multiplied by 100.\n",
    "\n",
    "a = 'CareerFoundry! '\n",
    "a * 100"
   ]
  }
 ],
 "metadata": {
  "kernelspec": {
   "display_name": "Python 3 (ipykernel)",
   "language": "python",
   "name": "python3"
  },
  "language_info": {
   "codemirror_mode": {
    "name": "ipython",
    "version": 3
   },
   "file_extension": ".py",
   "mimetype": "text/x-python",
   "name": "python",
   "nbconvert_exporter": "python",
   "pygments_lexer": "ipython3",
   "version": "3.11.4"
  }
 },
 "nbformat": 4,
 "nbformat_minor": 5
}
