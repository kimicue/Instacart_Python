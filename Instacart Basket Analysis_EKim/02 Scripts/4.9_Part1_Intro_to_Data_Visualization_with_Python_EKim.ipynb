{
 "cells": [
  {
   "cell_type": "markdown",
   "id": "368497b2",
   "metadata": {},
   "source": [
    "In this task, you’ll revisit some of the fundamental data preparation and combination techniques you learned in earlier Exercises as you incorporate an additional dataframe into your project. Then, you’ll move on to generating visualizations for your analysis.\n",
    "\n",
    "The senior Instacart officers have given you a new data set of customer information to go along with your product and order data. In part 1 of the task, you’ll need to incorporate this new data set into your project. In part 2, you’ll create some visualizations, conduct some exploratory analysis, and begin wrapping up everything you’ve done in this Achievement in preparation for the final task in the next Exercise, where you’ll write up a report for your client."
   ]
  },
  {
   "cell_type": "markdown",
   "id": "5851d6f0",
   "metadata": {},
   "source": [
    "# Part 1\n",
    "##### 1. Download the customer data set and add it to your “Original Data” folder.\n",
    "Okay!"
   ]
  },
  {
   "cell_type": "markdown",
   "id": "7534b966",
   "metadata": {},
   "source": [
    "##### 2. Create a new notebook in your “Scripts” folder for part 1 of this task.\n",
    "Okay!"
   ]
  },
  {
   "cell_type": "markdown",
   "id": "37685e72",
   "metadata": {},
   "source": [
    "##### 3. Import your analysis libraries, as well as your new customer data set as a dataframe."
   ]
  },
  {
   "cell_type": "markdown",
   "id": "a0c6ff45",
   "metadata": {},
   "source": [
    "###### Importing libraries"
   ]
  },
  {
   "cell_type": "code",
   "execution_count": null,
   "id": "570254f2",
   "metadata": {},
   "outputs": [],
   "source": [
    "import pandas as pd\n",
    "import numpy as np\n",
    "import os"
   ]
  },
  {
   "cell_type": "markdown",
   "id": "8bfe58f9",
   "metadata": {},
   "source": [
    "##### Importing data: \n",
    "'cstmr (customers.csv)'"
   ]
  },
  {
   "cell_type": "code",
   "execution_count": null,
   "id": "e17a5d24",
   "metadata": {},
   "outputs": [],
   "source": [
    "# Assign target data to 'path' and verify\n",
    "path = r'/Users/peterkim/Document/sql/CareerFoundry/Immersion Prep/4. Python Fundamentals for Data Analysts/Instacart Basket Analysis'\n",
    "\n",
    "# Importing dataframe; 'customers.csv'\n",
    "cstmr = pd.read_csv(os.path.join(path, '02 Data', 'Original Data', 'customers.csv'), index_col = False)\n",
    "\n",
    "# Checking dataframe, 'customers.csv'\n",
    "cstmr.head()\n"
   ]
  },
  {
   "cell_type": "markdown",
   "id": "54f47f3f",
   "metadata": {},
   "source": [
    "##### Importing data: \n",
    "'ords_prods_merge (ordered_products_merged.pkl)'"
   ]
  },
  {
   "cell_type": "code",
   "execution_count": null,
   "id": "e75d8cc8",
   "metadata": {
    "scrolled": true
   },
   "outputs": [],
   "source": [
    "# Importing dataframe; 'ordered_products_merged.pkl'\n",
    "ords_prods_merge = pd.read_pickle(os.path.join(path, '02 Data', 'Prepared Data', 'orders_products_merged_updated_090723.pkl'))\n",
    "\n",
    "# Checking dataframe, 'ordered_products_merged.pkl'\n",
    "ords_prods_merge.head()\n"
   ]
  },
  {
   "cell_type": "markdown",
   "id": "bf068f42",
   "metadata": {},
   "source": [
    "##### 4. Wrangle the data so that it follows consistent logic; for example, rename columns with illogical names and drop columns that don’t add anything to your analysis."
   ]
  },
  {
   "cell_type": "markdown",
   "id": "88422b2a",
   "metadata": {},
   "source": [
    "##### Renaming: \n",
    "'cstmr (customers.csv)'"
   ]
  },
  {
   "cell_type": "code",
   "execution_count": null,
   "id": "38943e58",
   "metadata": {
    "scrolled": true
   },
   "outputs": [],
   "source": [
    "# Renaming column name\n",
    "cstmr = cstmr.rename(columns = {'First Name':'first_name', 'Surnam':'last_name', 'Gender':'gender', 'STATE':'state', 'Age':'age', 'n_dependants':'numb_of_dependants', 'fam_status':'marital_status'})\n",
    "\n",
    "# Checking dataframe, 'customers.csv'\n",
    "cstmr.head()\n"
   ]
  },
  {
   "cell_type": "markdown",
   "id": "178ee4d4",
   "metadata": {},
   "source": [
    "##### Renaming: \n",
    "'ords_prods_merge (ordered_products_merged.pkl)'"
   ]
  },
  {
   "cell_type": "code",
   "execution_count": null,
   "id": "a6309b48",
   "metadata": {
    "scrolled": false
   },
   "outputs": [],
   "source": [
    "# Renaming column name\n",
    "ords_prods_merge = ords_prods_merge.rename(columns = {'order_dow':'orders_day_of_week'})\n",
    "\n",
    "# Checking dataframe, 'ordered_products_merged.pkl'\n",
    "ords_prods_merge.head()\n"
   ]
  },
  {
   "cell_type": "markdown",
   "id": "e5188d49",
   "metadata": {},
   "source": [
    "##### Dropping: \n",
    "'ords_prods_merge (ordered_products_merged.pkl)'"
   ]
  },
  {
   "cell_type": "code",
   "execution_count": null,
   "id": "d7be41c5",
   "metadata": {},
   "outputs": [],
   "source": [
    "ords_prods_merge.drop(columns = ['eval_set'])"
   ]
  },
  {
   "cell_type": "markdown",
   "id": "6648c4a6",
   "metadata": {},
   "source": [
    "##### 5. Complete the fundamental data quality and consistency checks you’ve learned throughout this Achievement; for example, check for and address missing values and duplicates, and convert any mixed-type data."
   ]
  },
  {
   "cell_type": "markdown",
   "id": "dae046e2",
   "metadata": {},
   "source": [
    "##### Statistics: \n",
    "'cstmr (customers.csv)'\n",
    "* There is a big difference between 'max'(593,901) and 'mean'(94,632) value in 'income' column, it.\n",
    "* But I would say it's still reasonable."
   ]
  },
  {
   "cell_type": "code",
   "execution_count": null,
   "id": "a8032376",
   "metadata": {
    "scrolled": false
   },
   "outputs": [],
   "source": [
    "# Checking basic statistics\n",
    "cstmr.describe()\n"
   ]
  },
  {
   "cell_type": "markdown",
   "id": "eb0db5eb",
   "metadata": {},
   "source": [
    "##### Statistics: \n",
    "'ords_prods_merge (ordered_products_merged.pkl)'"
   ]
  },
  {
   "cell_type": "code",
   "execution_count": null,
   "id": "18a06fbf",
   "metadata": {
    "scrolled": true
   },
   "outputs": [],
   "source": [
    "# Checking basic statistics\n",
    "ords_prods_merge.describe()\n"
   ]
  },
  {
   "cell_type": "markdown",
   "id": "6823a7d9",
   "metadata": {},
   "source": [
    "##### Data info: \n",
    "'cstmr (customers.csv)'\n",
    "* 'user_id' is key column when combining with 'ords_prods_merge (ordered_products_merged.pkl)'\n",
    "* Datatype of 'user_id' (int64) should be matched."
   ]
  },
  {
   "cell_type": "code",
   "execution_count": null,
   "id": "69b5ef9e",
   "metadata": {},
   "outputs": [],
   "source": [
    "# Checking dataframe information\n",
    "cstmr.info()\n"
   ]
  },
  {
   "cell_type": "markdown",
   "id": "1e0b2cba",
   "metadata": {},
   "source": [
    "##### Data info: \n",
    "'ords_prods_merge (ordered_products_merged.pkl)'\n",
    "* 'user_id' is key column when combining with 'cstmr (customers.csv)'\n",
    "* Datatype of 'user_id' (int64) should be matched."
   ]
  },
  {
   "cell_type": "code",
   "execution_count": null,
   "id": "73e41a75",
   "metadata": {},
   "outputs": [],
   "source": [
    "# Checking dataframe information\n",
    "ords_prods_merge.info()\n"
   ]
  },
  {
   "cell_type": "code",
   "execution_count": null,
   "id": "42f468f7",
   "metadata": {
    "scrolled": true
   },
   "outputs": [],
   "source": [
    "# Checking dataframe information\n",
    "cstmr.shape\n"
   ]
  },
  {
   "cell_type": "code",
   "execution_count": null,
   "id": "45caf285",
   "metadata": {
    "scrolled": true
   },
   "outputs": [],
   "source": [
    "# Checking dataframe information\n",
    "ords_prods_merge.shape\n"
   ]
  },
  {
   "cell_type": "markdown",
   "id": "65e8b1a5",
   "metadata": {},
   "source": [
    "##### Missing values: \n",
    "'cstmr (customers.csv)'\n",
    "* There are 11,259 rows of missing values in the 'first_name' column.\n",
    "* I will leave them as missing values since they won't affect this analysis."
   ]
  },
  {
   "cell_type": "code",
   "execution_count": null,
   "id": "6ca5b2ba",
   "metadata": {
    "scrolled": false
   },
   "outputs": [],
   "source": [
    "# Check for the number of null values in each column\n",
    "cstmr.isnull().sum()\n"
   ]
  },
  {
   "cell_type": "code",
   "execution_count": null,
   "id": "f65c939d",
   "metadata": {
    "scrolled": true
   },
   "outputs": [],
   "source": [
    "# Check in the data\n",
    "cstmr[cstmr.isnull().any(axis=1)]\n"
   ]
  },
  {
   "cell_type": "markdown",
   "id": "6ae6ab92",
   "metadata": {},
   "source": [
    "##### Missing values: \n",
    "'ords_prods_merge (ordered_products_merged.pkl)'\n",
    "* There are 2,078,084 rows of missing values in the 'days_since_prior_order' and 'order_frequency_flag' column. (both columns are related)\n",
    "* There are 28,171 rows of missing values in the 'product_name' column.\n",
    "* I will leave them as missing values since they won't affect this analysis."
   ]
  },
  {
   "cell_type": "code",
   "execution_count": null,
   "id": "c56f42df",
   "metadata": {
    "scrolled": false
   },
   "outputs": [],
   "source": [
    "# Check for the number of null values in each column\n",
    "ords_prods_merge.isnull().sum()\n"
   ]
  },
  {
   "cell_type": "code",
   "execution_count": null,
   "id": "fdfc3100",
   "metadata": {
    "scrolled": true
   },
   "outputs": [],
   "source": [
    "# Check in the data\n",
    "ords_prods_merge[ords_prods_merge.isnull().any(axis=1)]\n"
   ]
  },
  {
   "cell_type": "markdown",
   "id": "adb940d1",
   "metadata": {},
   "source": [
    "##### Duplicates: \n",
    "'cstmr (customers.csv)'\n",
    "* There are no duplicates."
   ]
  },
  {
   "cell_type": "code",
   "execution_count": null,
   "id": "760f8be4",
   "metadata": {
    "scrolled": true
   },
   "outputs": [],
   "source": [
    "# Check for duplicates\n",
    "cstmr[cstmr.duplicated()]\n"
   ]
  },
  {
   "cell_type": "markdown",
   "id": "85255967",
   "metadata": {},
   "source": [
    "##### Duplicates: \n",
    "'ords_prods_merge (ordered_products_merged.pkl)'\n",
    "* There are no duplicates."
   ]
  },
  {
   "cell_type": "code",
   "execution_count": null,
   "id": "61abdcee",
   "metadata": {
    "scrolled": true
   },
   "outputs": [],
   "source": [
    "# Check for duplicates\n",
    "ords_prods_merge[ords_prods_merge.duplicated()]\n"
   ]
  },
  {
   "cell_type": "markdown",
   "id": "2e985867",
   "metadata": {},
   "source": [
    "##### Mixed-type data: \n",
    "'cstmr (customers.csv)'\n",
    "* The column, 'first_name' has mixed-type data.\n",
    "* I addressed the mixed-type data in the 'first_name' column by changing its datatype to 'str'"
   ]
  },
  {
   "cell_type": "code",
   "execution_count": null,
   "id": "fe6b2947",
   "metadata": {
    "scrolled": true
   },
   "outputs": [],
   "source": [
    "# Check in Mixed-type data\n",
    "for col in cstmr.columns.tolist():\n",
    "  weird = (cstmr[[col]].applymap(type) != cstmr[[col]].iloc[0].apply(type)).any(axis = 1)\n",
    "  if len (cstmr[weird]) > 0:\n",
    "    print (col)\n"
   ]
  },
  {
   "cell_type": "code",
   "execution_count": null,
   "id": "708a7a04",
   "metadata": {},
   "outputs": [],
   "source": [
    "# Changing the datatype\n",
    "\n",
    "cstmr['first_name'] = cstmr['first_name'].astype('str')\n"
   ]
  },
  {
   "cell_type": "markdown",
   "id": "bd00ac3b",
   "metadata": {},
   "source": [
    "##### Mixed-type data: \n",
    "'ords_prods_merge (ordered_products_merged.pkl)'\n",
    "* The column, 'product_name' and 'order_frequency_flag' has mixed-type data.\n",
    "* I addressed the mixed-type data in the 'product_name' and 'order_frequency_flag' column by changing its datatype to 'str'."
   ]
  },
  {
   "cell_type": "code",
   "execution_count": null,
   "id": "d54adabe",
   "metadata": {
    "scrolled": true
   },
   "outputs": [],
   "source": [
    "# Check in Mixed-type data\n",
    "for col in ords_prods_merge.columns.tolist():\n",
    "  weird = (ords_prods_merge[[col]].applymap(type) != ords_prods_merge[[col]].iloc[0].apply(type)).any(axis = 1)\n",
    "  if len (ords_prods_merge[weird]) > 0:\n",
    "    print (col)\n"
   ]
  },
  {
   "cell_type": "code",
   "execution_count": null,
   "id": "f9b43a4f",
   "metadata": {},
   "outputs": [],
   "source": [
    "# Changing the datatype\n",
    "ords_prods_merge['product_name'] = ords_prods_merge['product_name'].astype('str')\n",
    "\n",
    "# Changing the datatype\n",
    "ords_prods_merge['order_frequency_flag'] = ords_prods_merge['order_frequency_flag'].astype('str')\n"
   ]
  },
  {
   "cell_type": "markdown",
   "id": "e0882496",
   "metadata": {},
   "source": [
    "##### 6. Combine your customer data with the rest of your prepared Instacart data. (Hint: Make sure the key columns are the same data type!)"
   ]
  },
  {
   "cell_type": "code",
   "execution_count": null,
   "id": "a7dbe7d1",
   "metadata": {},
   "outputs": [],
   "source": [
    "# Delet merge flag\n",
    "del ords_prods_merge['_merge']\n"
   ]
  },
  {
   "cell_type": "code",
   "execution_count": null,
   "id": "d253cef3",
   "metadata": {},
   "outputs": [],
   "source": [
    "# Combine cstmr('customer.csv') with ords_prods_merge('orders_products_merged_updated_090723.pkl') on user_id\n",
    "df_merge = cstmr.merge(ords_prods_merge, on = 'user_id', indicator = True)\n"
   ]
  },
  {
   "cell_type": "code",
   "execution_count": null,
   "id": "e3e0b6c8",
   "metadata": {
    "scrolled": true
   },
   "outputs": [],
   "source": [
    "# Checking new merged dataframe 'df_merge'\n",
    "df_merge\n"
   ]
  },
  {
   "cell_type": "code",
   "execution_count": null,
   "id": "30d0a8a1",
   "metadata": {},
   "outputs": [],
   "source": [
    "# Checking and comparing the shapes of each dataframes\n",
    "df_merge.shape\n"
   ]
  },
  {
   "cell_type": "code",
   "execution_count": null,
   "id": "f83d064e",
   "metadata": {},
   "outputs": [],
   "source": [
    "# Checking and comparing the shapes of each dataframes\n",
    "cstmr.shape\n"
   ]
  },
  {
   "cell_type": "code",
   "execution_count": null,
   "id": "1e8b7713",
   "metadata": {},
   "outputs": [],
   "source": [
    "# Checking and comparing the shapes of each dataframes\n",
    "ords_prods_merge.shape\n"
   ]
  },
  {
   "cell_type": "markdown",
   "id": "c055f90c",
   "metadata": {},
   "source": [
    "##### 7. Ensure your notebook contains logical titles, section headings, and descriptive code comments."
   ]
  },
  {
   "cell_type": "markdown",
   "id": "998b2fe6",
   "metadata": {},
   "source": [
    "Okay!"
   ]
  },
  {
   "cell_type": "markdown",
   "id": "9eab225e",
   "metadata": {},
   "source": [
    "##### 8. Export this new dataframe as a pickle file so you can continue to use it in the second part of this task."
   ]
  },
  {
   "cell_type": "code",
   "execution_count": null,
   "id": "f21fddd2",
   "metadata": {},
   "outputs": [],
   "source": [
    "# Export new dataframe as a pickle file\n",
    "df_merge.to_pickle(os.path.join(path, '02 Data','Prepared Data', 'ords_prods_cstmr_merged_updated_090923.pkl'))\n"
   ]
  },
  {
   "cell_type": "markdown",
   "id": "ad6d4cd9",
   "metadata": {},
   "source": [
    "##### 9. Save your notebook so that you can send it to your tutor for review after completing part 2."
   ]
  },
  {
   "cell_type": "markdown",
   "id": "65c36f3c",
   "metadata": {},
   "source": [
    "Okay!"
   ]
  },
  {
   "cell_type": "code",
   "execution_count": null,
   "id": "37dbb73f",
   "metadata": {},
   "outputs": [],
   "source": []
  }
 ],
 "metadata": {
  "kernelspec": {
   "display_name": "Python 3 (ipykernel)",
   "language": "python",
   "name": "python3"
  },
  "language_info": {
   "codemirror_mode": {
    "name": "ipython",
    "version": 3
   },
   "file_extension": ".py",
   "mimetype": "text/x-python",
   "name": "python",
   "nbconvert_exporter": "python",
   "pygments_lexer": "ipython3",
   "version": "3.11.4"
  }
 },
 "nbformat": 4,
 "nbformat_minor": 5
}
